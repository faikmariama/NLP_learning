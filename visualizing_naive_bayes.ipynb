{
 "cells": [
  {
   "cell_type": "markdown",
   "id": "b115c52c",
   "metadata": {},
   "source": [
    "# Visualizing Naive Bayes\n",
    "\n",
    "In this lab, we will cover an essential part of data analysis that has not been included in the lecture videos. As we stated in the previous module, data visualization gives insight into the expected performance of any model. \n",
    "\n",
    "In the following exercise, you are going to make a visual inspection of the tweets dataset using the Naïve Bayes features. We will see how we can understand the log-likelihood ratio explained in the videos as a pair of numerical features that can be fed in a machine learning algorithm. \n",
    "\n",
    "At the end of this lab, we will introduce the concept of __confidence ellipse__ as a tool for representing the Naïve Bayes model visually."
   ]
  },
  {
   "cell_type": "code",
   "execution_count": 2,
   "id": "bdc7ce39",
   "metadata": {},
   "outputs": [],
   "source": [
    "import pandas as pd\n",
    "import numpy as np\n",
    "import matplotlib.pyplot as plt # Library for plots"
   ]
  },
  {
   "cell_type": "markdown",
   "id": "37375779",
   "metadata": {},
   "source": [
    "## Calculate the likelihoods for each tweet\n",
    "​\n",
    "For each tweet, we have calculated the likelihood of the tweet to be positive and the likelihood to be negative. We have calculated in different columns the numerator and denominator of the likelihood ratio introduced previously.  \n",
    "​\n",
    "$$log \\frac{P(tweet|pos)}{P(tweet|neg)} = log(P(tweet|pos)) - log(P(tweet|neg)) $$\n",
    "$$positive = log(P(tweet|pos)) = \\sum_{i=0}^{n}{log P(W_i|pos)}$$\n",
    "$$negative = log(P(tweet|neg)) = \\sum_{i=0}^{n}{log P(W_i|neg)}$$\n",
    "​\n",
    "We did not include the code because this is part of this week's assignment.  The __'bayes_features.csv'__ file contains the final result of this process. \n",
    "​\n",
    "The cell below loads the table in a dataframe. Dataframes are data structures that simplify the manipulation of data, allowing filtering, slicing, joining, and summarization."
   ]
  },
  {
   "cell_type": "code",
   "execution_count": 6,
   "id": "39a6a28c",
   "metadata": {},
   "outputs": [
    {
     "data": {
      "text/html": [
       "<div>\n",
       "<style scoped>\n",
       "    .dataframe tbody tr th:only-of-type {\n",
       "        vertical-align: middle;\n",
       "    }\n",
       "\n",
       "    .dataframe tbody tr th {\n",
       "        vertical-align: top;\n",
       "    }\n",
       "\n",
       "    .dataframe thead th {\n",
       "        text-align: right;\n",
       "    }\n",
       "</style>\n",
       "<table border=\"1\" class=\"dataframe\">\n",
       "  <thead>\n",
       "    <tr style=\"text-align: right;\">\n",
       "      <th></th>\n",
       "      <th>positive</th>\n",
       "      <th>negative</th>\n",
       "      <th>sentiment</th>\n",
       "    </tr>\n",
       "  </thead>\n",
       "  <tbody>\n",
       "    <tr>\n",
       "      <th>0</th>\n",
       "      <td>-45.763393</td>\n",
       "      <td>-63.351354</td>\n",
       "      <td>1.0</td>\n",
       "    </tr>\n",
       "    <tr>\n",
       "      <th>1</th>\n",
       "      <td>-105.491568</td>\n",
       "      <td>-114.204862</td>\n",
       "      <td>1.0</td>\n",
       "    </tr>\n",
       "    <tr>\n",
       "      <th>2</th>\n",
       "      <td>-57.028078</td>\n",
       "      <td>-67.216467</td>\n",
       "      <td>1.0</td>\n",
       "    </tr>\n",
       "    <tr>\n",
       "      <th>3</th>\n",
       "      <td>-10.055885</td>\n",
       "      <td>-18.589057</td>\n",
       "      <td>1.0</td>\n",
       "    </tr>\n",
       "    <tr>\n",
       "      <th>4</th>\n",
       "      <td>-125.749270</td>\n",
       "      <td>-138.334845</td>\n",
       "      <td>1.0</td>\n",
       "    </tr>\n",
       "  </tbody>\n",
       "</table>\n",
       "</div>"
      ],
      "text/plain": [
       "     positive    negative  sentiment\n",
       "0  -45.763393  -63.351354        1.0\n",
       "1 -105.491568 -114.204862        1.0\n",
       "2  -57.028078  -67.216467        1.0\n",
       "3  -10.055885  -18.589057        1.0\n",
       "4 -125.749270 -138.334845        1.0"
      ]
     },
     "execution_count": 6,
     "metadata": {},
     "output_type": "execute_result"
    }
   ],
   "source": [
    "data = pd.read_csv(\"bayes_features.csv\")\n",
    "data.head(5)"
   ]
  },
  {
   "cell_type": "code",
   "execution_count": 18,
   "id": "7b463e0d",
   "metadata": {},
   "outputs": [
    {
     "name": "stdout",
     "output_type": "stream",
     "text": [
      "0       1.0\n",
      "1       1.0\n",
      "2       1.0\n",
      "3       1.0\n",
      "4       1.0\n",
      "       ... \n",
      "7995    0.0\n",
      "7996    0.0\n",
      "7997    0.0\n",
      "7998    0.0\n",
      "7999    0.0\n",
      "Name: sentiment, Length: 8000, dtype: float64\n"
     ]
    }
   ],
   "source": [
    "print(data.sentiment)"
   ]
  },
  {
   "cell_type": "code",
   "execution_count": 19,
   "id": "35cc80b9",
   "metadata": {},
   "outputs": [
    {
     "data": {
      "image/png": "[encoded data removed]",
      "text/plain": [
       "<Figure size 576x576 with 1 Axes>"
      ]
     },
     "metadata": {
      "needs_background": "light"
     },
     "output_type": "display_data"
    }
   ],
   "source": [
    "# Plot the samples using columns 1 and 2 of the matrix\n",
    "fig, ax = plt.subplots(figsize = (8,8))#Create a new figure with a custom size\n",
    "colors = ['red','blue']\n",
    "sentiments = ['negative','positive']  \n",
    "\n",
    "index = data.index\n",
    "\n",
    "# Color base on sentiment\n",
    "for sentiment in data.sentiment.unique():\n",
    "    ix = index[data.sentiment == sentiment]\n",
    "    ax.scatter(data.iloc[ix].positive, data.iloc[ix].negative, c=colors[int(sentiment)], s=0.1, marker='o', label=sentiments[int(sentiment)])\n",
    "\n",
    "ax.legend(loc='best')    \n",
    "    \n",
    "# Custom limits for this chart\n",
    "plt.xlim(-250,0)\n",
    "plt.ylim(-250,0)\n",
    "\n",
    "plt.xlabel(\"Positive\") # x-axis label\n",
    "plt.ylabel(\"Negative\") # y-axis label\n",
    "plt.show()"
   ]
  },
  {
   "cell_type": "code",
   "execution_count": null,
   "id": "f78f705f",
   "metadata": {},
   "outputs": [],
   "source": []
  }
 ],
 "metadata": {
  "kernelspec": {
   "display_name": "Python 3",
   "language": "python",
   "name": "python3"
  },
  "language_info": {
   "codemirror_mode": {
    "name": "ipython",
    "version": 3
   },
   "file_extension": ".py",
   "mimetype": "text/x-python",
   "name": "python",
   "nbconvert_exporter": "python",
   "pygments_lexer": "ipython3",
   "version": "3.8.8"
  }
 },
 "nbformat": 4,
 "nbformat_minor": 5
}
